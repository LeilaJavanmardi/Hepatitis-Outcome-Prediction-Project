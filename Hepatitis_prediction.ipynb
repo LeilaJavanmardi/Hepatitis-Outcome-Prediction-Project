{
 "cells": [
  {
   "cell_type": "markdown",
   "id": "3daca8b4",
   "metadata": {},
   "source": [
    "## Competition! Predict df_to_be_tested"
   ]
  },
  {
   "cell_type": "code",
   "execution_count": 1,
   "id": "310234e9",
   "metadata": {},
   "outputs": [],
   "source": [
    "import pandas as pd\n",
    "import numpy as np\n",
    "import matplotlib.pyplot as plt\n",
    "import seaborn as sns\n",
    "import scipy.stats as st\n",
    "import sklearn"
   ]
  },
  {
   "cell_type": "code",
   "execution_count": 2,
   "id": "a6580cfe",
   "metadata": {},
   "outputs": [],
   "source": [
    "file_train = \"train.csv\"\n",
    "file_test = \"test_no_class.csv\"\n",
    "df = pd.read_csv(file_train)\n",
    "df2= pd.read_csv(file_test)"
   ]
  },
  {
   "cell_type": "markdown",
   "id": "0b2d4156-2f78-4e99-ab9c-a5ab55711d0b",
   "metadata": {},
   "source": [
    "## Train Set"
   ]
  },
  {
   "cell_type": "code",
   "execution_count": 3,
   "id": "c8b5bc6e-7ae5-42c9-84b7-8c29c02821fc",
   "metadata": {},
   "outputs": [
    {
     "data": {
      "text/html": [
       "<div>\n",
       "<style scoped>\n",
       "    .dataframe tbody tr th:only-of-type {\n",
       "        vertical-align: middle;\n",
       "    }\n",
       "\n",
       "    .dataframe tbody tr th {\n",
       "        vertical-align: top;\n",
       "    }\n",
       "\n",
       "    .dataframe thead th {\n",
       "        text-align: right;\n",
       "    }\n",
       "</style>\n",
       "<table border=\"1\" class=\"dataframe\">\n",
       "  <thead>\n",
       "    <tr style=\"text-align: right;\">\n",
       "      <th></th>\n",
       "      <th>AGE</th>\n",
       "      <th>SEX</th>\n",
       "      <th>STEROID</th>\n",
       "      <th>ANTIVIRALS</th>\n",
       "      <th>FATIGUE</th>\n",
       "      <th>MALAISE</th>\n",
       "      <th>ANOREXIA</th>\n",
       "      <th>LIVER BIG</th>\n",
       "      <th>LIVER FIRM</th>\n",
       "      <th>SPLEEN PALPABLE</th>\n",
       "      <th>SPIDERS</th>\n",
       "      <th>ASCITES</th>\n",
       "      <th>VARICES</th>\n",
       "      <th>BILIRUBIN</th>\n",
       "      <th>ALK PHOSPHATE</th>\n",
       "      <th>SGOT</th>\n",
       "      <th>ALBUMIN</th>\n",
       "      <th>PROTIME</th>\n",
       "      <th>HISTOLOGY</th>\n",
       "      <th>Class</th>\n",
       "    </tr>\n",
       "  </thead>\n",
       "  <tbody>\n",
       "    <tr>\n",
       "      <th>0</th>\n",
       "      <td>48</td>\n",
       "      <td>meale</td>\n",
       "      <td>1</td>\n",
       "      <td>2</td>\n",
       "      <td>1</td>\n",
       "      <td>1</td>\n",
       "      <td>2</td>\n",
       "      <td>2</td>\n",
       "      <td>1</td>\n",
       "      <td>2</td>\n",
       "      <td>1</td>\n",
       "      <td>1</td>\n",
       "      <td>1</td>\n",
       "      <td>4.80</td>\n",
       "      <td>123</td>\n",
       "      <td>157</td>\n",
       "      <td>2.7</td>\n",
       "      <td>31</td>\n",
       "      <td>2</td>\n",
       "      <td>DIE</td>\n",
       "    </tr>\n",
       "    <tr>\n",
       "      <th>1</th>\n",
       "      <td>51</td>\n",
       "      <td>Male</td>\n",
       "      <td>2</td>\n",
       "      <td>2</td>\n",
       "      <td>1</td>\n",
       "      <td>2</td>\n",
       "      <td>2</td>\n",
       "      <td>2</td>\n",
       "      <td>1</td>\n",
       "      <td>1</td>\n",
       "      <td>1</td>\n",
       "      <td>2</td>\n",
       "      <td>1</td>\n",
       "      <td>1.00</td>\n",
       "      <td>?</td>\n",
       "      <td>20</td>\n",
       "      <td>3.0</td>\n",
       "      <td>63</td>\n",
       "      <td>2</td>\n",
       "      <td>LIVE</td>\n",
       "    </tr>\n",
       "    <tr>\n",
       "      <th>2</th>\n",
       "      <td>40</td>\n",
       "      <td>m</td>\n",
       "      <td>1</td>\n",
       "      <td>2</td>\n",
       "      <td>1</td>\n",
       "      <td>2</td>\n",
       "      <td>2</td>\n",
       "      <td>2</td>\n",
       "      <td>1</td>\n",
       "      <td>2</td>\n",
       "      <td>2</td>\n",
       "      <td>2</td>\n",
       "      <td>2</td>\n",
       "      <td>0.60</td>\n",
       "      <td>62</td>\n",
       "      <td>166</td>\n",
       "      <td>4.0</td>\n",
       "      <td>63</td>\n",
       "      <td>1</td>\n",
       "      <td>LIVE</td>\n",
       "    </tr>\n",
       "    <tr>\n",
       "      <th>3</th>\n",
       "      <td>25</td>\n",
       "      <td>m</td>\n",
       "      <td>2</td>\n",
       "      <td>2</td>\n",
       "      <td>1</td>\n",
       "      <td>2</td>\n",
       "      <td>2</td>\n",
       "      <td>1</td>\n",
       "      <td>1</td>\n",
       "      <td>1</td>\n",
       "      <td>1</td>\n",
       "      <td>1</td>\n",
       "      <td>1</td>\n",
       "      <td>1.30</td>\n",
       "      <td>181</td>\n",
       "      <td>181</td>\n",
       "      <td>4.5</td>\n",
       "      <td>57</td>\n",
       "      <td>2</td>\n",
       "      <td>LIVE</td>\n",
       "    </tr>\n",
       "    <tr>\n",
       "      <th>4</th>\n",
       "      <td>34</td>\n",
       "      <td>M</td>\n",
       "      <td>1</td>\n",
       "      <td>2</td>\n",
       "      <td>1</td>\n",
       "      <td>2</td>\n",
       "      <td>2</td>\n",
       "      <td>1</td>\n",
       "      <td>1</td>\n",
       "      <td>2</td>\n",
       "      <td>1</td>\n",
       "      <td>2</td>\n",
       "      <td>2</td>\n",
       "      <td>1.00</td>\n",
       "      <td>72</td>\n",
       "      <td>46</td>\n",
       "      <td>4.4</td>\n",
       "      <td>57</td>\n",
       "      <td>1</td>\n",
       "      <td>LIVE</td>\n",
       "    </tr>\n",
       "  </tbody>\n",
       "</table>\n",
       "</div>"
      ],
      "text/plain": [
       "   AGE    SEX STEROID  ANTIVIRALS  FATIGUE  MALAISE  ANOREXIA LIVER BIG  \\\n",
       "0   48  meale       1           2        1        1         2         2   \n",
       "1   51   Male       2           2        1        2         2         2   \n",
       "2   40      m       1           2        1        2         2         2   \n",
       "3   25      m       2           2        1        2         2         1   \n",
       "4   34      M       1           2        1        2         2         1   \n",
       "\n",
       "  LIVER FIRM SPLEEN PALPABLE SPIDERS ASCITES VARICES BILIRUBIN ALK PHOSPHATE  \\\n",
       "0          1               2       1       1       1      4.80           123   \n",
       "1          1               1       1       2       1      1.00             ?   \n",
       "2          1               2       2       2       2      0.60            62   \n",
       "3          1               1       1       1       1      1.30           181   \n",
       "4          1               2       1       2       2      1.00            72   \n",
       "\n",
       "  SGOT ALBUMIN PROTIME  HISTOLOGY Class  \n",
       "0  157     2.7      31          2   DIE  \n",
       "1   20     3.0      63          2  LIVE  \n",
       "2  166     4.0      63          1  LIVE  \n",
       "3  181     4.5      57          2  LIVE  \n",
       "4   46     4.4      57          1  LIVE  "
      ]
     },
     "execution_count": 3,
     "metadata": {},
     "output_type": "execute_result"
    }
   ],
   "source": [
    "df.head(5)"
   ]
  },
  {
   "cell_type": "code",
   "execution_count": 4,
   "id": "75e61391-e98f-407b-959e-add3587607cc",
   "metadata": {},
   "outputs": [
    {
     "data": {
      "text/plain": [
       "AGE                 int64\n",
       "SEX                object\n",
       "STEROID            object\n",
       "ANTIVIRALS          int64\n",
       "FATIGUE             int64\n",
       "MALAISE             int64\n",
       "ANOREXIA            int64\n",
       "LIVER BIG          object\n",
       "LIVER FIRM         object\n",
       "SPLEEN PALPABLE    object\n",
       "SPIDERS            object\n",
       "ASCITES            object\n",
       "VARICES            object\n",
       "BILIRUBIN          object\n",
       "ALK PHOSPHATE      object\n",
       "SGOT               object\n",
       "ALBUMIN            object\n",
       "PROTIME            object\n",
       "HISTOLOGY           int64\n",
       "Class              object\n",
       "dtype: object"
      ]
     },
     "execution_count": 4,
     "metadata": {},
     "output_type": "execute_result"
    }
   ],
   "source": [
    "df.dtypes"
   ]
  },
  {
   "cell_type": "code",
   "execution_count": 5,
   "id": "20d724e9-dc70-415d-8093-2626abb0cf61",
   "metadata": {},
   "outputs": [
    {
     "name": "stdout",
     "output_type": "stream",
     "text": [
      "AGE [48 51 40 25 34 52 31 62 30 61 50 39 59 36 27 41 53 23 49 65 69 37 20 42\n",
      " 54 38 33 28 22 45 46 35 24 44 56 47 43 60  7 58 67 32]\n",
      "SEX ['meale' 'Male' 'm' 'M' 'maled' 'male' 'F' 'Feamle' 'female']\n",
      "STEROID ['1' '2' '?']\n",
      "ANTIVIRALS [2 1]\n",
      "FATIGUE [1 2]\n",
      "MALAISE [1 2]\n",
      "ANOREXIA [2 1]\n",
      "LIVER BIG ['2' '1' '?']\n",
      "LIVER FIRM ['1' '2' '?']\n",
      "SPLEEN PALPABLE ['2' '1' '?']\n",
      "SPIDERS ['1' '2' '?']\n",
      "ASCITES ['1' '2' '?']\n",
      "VARICES ['1' '2' '?']\n",
      "BILIRUBIN ['4.80' '1.00' '0.60' '1.30' '0.70' '2.50' '8.00' '0.90' '1.50' '2.40'\n",
      " '4.60' '0.30' '0.80' '3.20' '1.20' '2.80' '7.60' '1.60' '2.90' '?' '3.90'\n",
      " '2.00' '1.70' '1.90' '3.00' '1.10' '0.50' '0.40']\n",
      "ALK PHOSPHATE ['123' '?' '62' '181' '72' '40' '75' '85' '78' '141' '165' '30' '46' '230'\n",
      " '107' '120' '168' '215' '81' '56' '34' '135' '180' '119' '80' '89' '155'\n",
      " '53' '74' '127' '48' '76' '138' '68' '71' '90' '103' '70' '110' '50'\n",
      " '166' '60' '100' '95' '158' '164' '86' '126' '139' '92' '256' '114' '52'\n",
      " '130' '167' '179' '194' '243' '55']\n",
      "SGOT ['157' '20' '166' '181' '46' '69' '55' '58' '156' '64' '25' '75' '101'\n",
      " '24' '52' '117' '30' '227' '269' '60' '19' '16' '15' '48' '42' '53' '33'\n",
      " '136' '80' '31' '152' '28' '200' '90' '110' '182' '18' '271' '44' '242'\n",
      " '34' '68' '14' '153' '43' '145' '?' '78' '63' '40' '278' '120' '114'\n",
      " '142' '81' '59' '65' '38' '140' '100' '231' '150' '49' '45' '225']\n",
      "ALBUMIN ['2.7' '3.0' '4.0' '4.5' '4.4' '4.2' '4.6' '3.9' '2.8' '3.8' '2.2' '3.4'\n",
      " '3.6' '4.1' '3.7' '3.5' '2.9' '?' '2.4' '3.3' '4.9' '2.6' '4.8' '4.7'\n",
      " '3.1' '2.1' '4.3' '5.3']\n",
      "PROTIME ['31' '63' '57' '67' '21' '100' '52' '58' '?' '72' '76' '80' '41' '38'\n",
      " '66' '51' '48' '54' '74' '85' '32' '60' '64' '50' '70' '47' '42' '75'\n",
      " '43' '46' '62' '84' '29' '0' '56' '90']\n",
      "HISTOLOGY [2 1]\n",
      "Class ['DIE' 'LIVE']\n"
     ]
    }
   ],
   "source": [
    "col = df.columns\n",
    "for col in col:\n",
    "    print(col, df[col].unique())"
   ]
  },
  {
   "cell_type": "code",
   "execution_count": 6,
   "id": "f7add4a0-5926-4afe-9a5b-3fc23072095b",
   "metadata": {},
   "outputs": [
    {
     "data": {
      "text/plain": [
       "AGE                0\n",
       "SEX                0\n",
       "STEROID            0\n",
       "ANTIVIRALS         0\n",
       "FATIGUE            0\n",
       "MALAISE            0\n",
       "ANOREXIA           0\n",
       "LIVER BIG          0\n",
       "LIVER FIRM         0\n",
       "SPLEEN PALPABLE    0\n",
       "SPIDERS            0\n",
       "ASCITES            0\n",
       "VARICES            0\n",
       "BILIRUBIN          0\n",
       "ALK PHOSPHATE      0\n",
       "SGOT               0\n",
       "ALBUMIN            0\n",
       "PROTIME            0\n",
       "HISTOLOGY          0\n",
       "Class              0\n",
       "dtype: int64"
      ]
     },
     "execution_count": 6,
     "metadata": {},
     "output_type": "execute_result"
    }
   ],
   "source": [
    "df.isna().sum()"
   ]
  },
  {
   "cell_type": "code",
   "execution_count": 7,
   "id": "0fdce644-7328-41aa-adff-5106765e1c37",
   "metadata": {},
   "outputs": [],
   "source": [
    "# Convertin \"male\" to 0 and \"female\" to 1\n",
    "\n",
    "gender_mapping = {\"Male\":0, \n",
    "                  \"Feamle\":1, \n",
    "                  \"maled\":0,\n",
    "                  \"m\":0, \n",
    "                  \"female\":1, \n",
    "                  \"meale\":0, \n",
    "                  \"male\":0,\n",
    "                  \"M\":0,\n",
    "                  \"F\":1}\n",
    "\n",
    "df[\"SEX\"] = df[\"SEX\"].map(gender_mapping)\n",
    "\n",
    "df['Class']=df['Class'].map({'DIE':0, 'LIVE':1})"
   ]
  },
  {
   "cell_type": "code",
   "execution_count": 8,
   "id": "ecb323a3-5339-40d3-9985-c9aa81d616db",
   "metadata": {},
   "outputs": [
    {
     "data": {
      "text/html": [
       "<div>\n",
       "<style scoped>\n",
       "    .dataframe tbody tr th:only-of-type {\n",
       "        vertical-align: middle;\n",
       "    }\n",
       "\n",
       "    .dataframe tbody tr th {\n",
       "        vertical-align: top;\n",
       "    }\n",
       "\n",
       "    .dataframe thead th {\n",
       "        text-align: right;\n",
       "    }\n",
       "</style>\n",
       "<table border=\"1\" class=\"dataframe\">\n",
       "  <thead>\n",
       "    <tr style=\"text-align: right;\">\n",
       "      <th></th>\n",
       "      <th>AGE</th>\n",
       "      <th>SEX</th>\n",
       "      <th>STEROID</th>\n",
       "      <th>ANTIVIRALS</th>\n",
       "      <th>FATIGUE</th>\n",
       "      <th>MALAISE</th>\n",
       "      <th>ANOREXIA</th>\n",
       "      <th>LIVER BIG</th>\n",
       "      <th>LIVER FIRM</th>\n",
       "      <th>SPLEEN PALPABLE</th>\n",
       "      <th>SPIDERS</th>\n",
       "      <th>ASCITES</th>\n",
       "      <th>VARICES</th>\n",
       "      <th>BILIRUBIN</th>\n",
       "      <th>ALK PHOSPHATE</th>\n",
       "      <th>SGOT</th>\n",
       "      <th>ALBUMIN</th>\n",
       "      <th>PROTIME</th>\n",
       "      <th>HISTOLOGY</th>\n",
       "      <th>Class</th>\n",
       "    </tr>\n",
       "  </thead>\n",
       "  <tbody>\n",
       "    <tr>\n",
       "      <th>0</th>\n",
       "      <td>48</td>\n",
       "      <td>0</td>\n",
       "      <td>1</td>\n",
       "      <td>2</td>\n",
       "      <td>1</td>\n",
       "      <td>1</td>\n",
       "      <td>2</td>\n",
       "      <td>2</td>\n",
       "      <td>1</td>\n",
       "      <td>2</td>\n",
       "      <td>1</td>\n",
       "      <td>1</td>\n",
       "      <td>1</td>\n",
       "      <td>4.80</td>\n",
       "      <td>123</td>\n",
       "      <td>157</td>\n",
       "      <td>2.7</td>\n",
       "      <td>31</td>\n",
       "      <td>2</td>\n",
       "      <td>0</td>\n",
       "    </tr>\n",
       "    <tr>\n",
       "      <th>1</th>\n",
       "      <td>51</td>\n",
       "      <td>0</td>\n",
       "      <td>2</td>\n",
       "      <td>2</td>\n",
       "      <td>1</td>\n",
       "      <td>2</td>\n",
       "      <td>2</td>\n",
       "      <td>2</td>\n",
       "      <td>1</td>\n",
       "      <td>1</td>\n",
       "      <td>1</td>\n",
       "      <td>2</td>\n",
       "      <td>1</td>\n",
       "      <td>1.00</td>\n",
       "      <td>?</td>\n",
       "      <td>20</td>\n",
       "      <td>3.0</td>\n",
       "      <td>63</td>\n",
       "      <td>2</td>\n",
       "      <td>1</td>\n",
       "    </tr>\n",
       "    <tr>\n",
       "      <th>2</th>\n",
       "      <td>40</td>\n",
       "      <td>0</td>\n",
       "      <td>1</td>\n",
       "      <td>2</td>\n",
       "      <td>1</td>\n",
       "      <td>2</td>\n",
       "      <td>2</td>\n",
       "      <td>2</td>\n",
       "      <td>1</td>\n",
       "      <td>2</td>\n",
       "      <td>2</td>\n",
       "      <td>2</td>\n",
       "      <td>2</td>\n",
       "      <td>0.60</td>\n",
       "      <td>62</td>\n",
       "      <td>166</td>\n",
       "      <td>4.0</td>\n",
       "      <td>63</td>\n",
       "      <td>1</td>\n",
       "      <td>1</td>\n",
       "    </tr>\n",
       "    <tr>\n",
       "      <th>3</th>\n",
       "      <td>25</td>\n",
       "      <td>0</td>\n",
       "      <td>2</td>\n",
       "      <td>2</td>\n",
       "      <td>1</td>\n",
       "      <td>2</td>\n",
       "      <td>2</td>\n",
       "      <td>1</td>\n",
       "      <td>1</td>\n",
       "      <td>1</td>\n",
       "      <td>1</td>\n",
       "      <td>1</td>\n",
       "      <td>1</td>\n",
       "      <td>1.30</td>\n",
       "      <td>181</td>\n",
       "      <td>181</td>\n",
       "      <td>4.5</td>\n",
       "      <td>57</td>\n",
       "      <td>2</td>\n",
       "      <td>1</td>\n",
       "    </tr>\n",
       "    <tr>\n",
       "      <th>4</th>\n",
       "      <td>34</td>\n",
       "      <td>0</td>\n",
       "      <td>1</td>\n",
       "      <td>2</td>\n",
       "      <td>1</td>\n",
       "      <td>2</td>\n",
       "      <td>2</td>\n",
       "      <td>1</td>\n",
       "      <td>1</td>\n",
       "      <td>2</td>\n",
       "      <td>1</td>\n",
       "      <td>2</td>\n",
       "      <td>2</td>\n",
       "      <td>1.00</td>\n",
       "      <td>72</td>\n",
       "      <td>46</td>\n",
       "      <td>4.4</td>\n",
       "      <td>57</td>\n",
       "      <td>1</td>\n",
       "      <td>1</td>\n",
       "    </tr>\n",
       "  </tbody>\n",
       "</table>\n",
       "</div>"
      ],
      "text/plain": [
       "   AGE  SEX STEROID  ANTIVIRALS  FATIGUE  MALAISE  ANOREXIA LIVER BIG  \\\n",
       "0   48    0       1           2        1        1         2         2   \n",
       "1   51    0       2           2        1        2         2         2   \n",
       "2   40    0       1           2        1        2         2         2   \n",
       "3   25    0       2           2        1        2         2         1   \n",
       "4   34    0       1           2        1        2         2         1   \n",
       "\n",
       "  LIVER FIRM SPLEEN PALPABLE SPIDERS ASCITES VARICES BILIRUBIN ALK PHOSPHATE  \\\n",
       "0          1               2       1       1       1      4.80           123   \n",
       "1          1               1       1       2       1      1.00             ?   \n",
       "2          1               2       2       2       2      0.60            62   \n",
       "3          1               1       1       1       1      1.30           181   \n",
       "4          1               2       1       2       2      1.00            72   \n",
       "\n",
       "  SGOT ALBUMIN PROTIME  HISTOLOGY  Class  \n",
       "0  157     2.7      31          2      0  \n",
       "1   20     3.0      63          2      1  \n",
       "2  166     4.0      63          1      1  \n",
       "3  181     4.5      57          2      1  \n",
       "4   46     4.4      57          1      1  "
      ]
     },
     "execution_count": 8,
     "metadata": {},
     "output_type": "execute_result"
    }
   ],
   "source": [
    "df.head(5)"
   ]
  },
  {
   "cell_type": "code",
   "execution_count": 9,
   "id": "c32feeae-4c95-44fe-b5c9-ef8dcf77cdb5",
   "metadata": {},
   "outputs": [],
   "source": [
    "df = df.apply(pd.to_numeric, errors='coerce')"
   ]
  },
  {
   "cell_type": "code",
   "execution_count": 10,
   "id": "07bc8209-61a6-4c48-8c5e-f5387d025336",
   "metadata": {},
   "outputs": [
    {
     "data": {
      "text/plain": [
       "AGE                  int64\n",
       "SEX                  int64\n",
       "STEROID            float64\n",
       "ANTIVIRALS           int64\n",
       "FATIGUE              int64\n",
       "MALAISE              int64\n",
       "ANOREXIA             int64\n",
       "LIVER BIG          float64\n",
       "LIVER FIRM         float64\n",
       "SPLEEN PALPABLE    float64\n",
       "SPIDERS            float64\n",
       "ASCITES            float64\n",
       "VARICES            float64\n",
       "BILIRUBIN          float64\n",
       "ALK PHOSPHATE      float64\n",
       "SGOT               float64\n",
       "ALBUMIN            float64\n",
       "PROTIME            float64\n",
       "HISTOLOGY            int64\n",
       "Class                int64\n",
       "dtype: object"
      ]
     },
     "execution_count": 10,
     "metadata": {},
     "output_type": "execute_result"
    }
   ],
   "source": [
    "df.dtypes"
   ]
  },
  {
   "cell_type": "code",
   "execution_count": 11,
   "id": "88a8d447-700c-4d74-849d-23f51db44364",
   "metadata": {},
   "outputs": [
    {
     "data": {
      "text/plain": [
       "AGE                 0\n",
       "SEX                 0\n",
       "STEROID             1\n",
       "ANTIVIRALS          0\n",
       "FATIGUE             0\n",
       "MALAISE             0\n",
       "ANOREXIA            0\n",
       "LIVER BIG           6\n",
       "LIVER FIRM          7\n",
       "SPLEEN PALPABLE     3\n",
       "SPIDERS             3\n",
       "ASCITES             3\n",
       "VARICES             3\n",
       "BILIRUBIN           3\n",
       "ALK PHOSPHATE      18\n",
       "SGOT                3\n",
       "ALBUMIN             9\n",
       "PROTIME            47\n",
       "HISTOLOGY           0\n",
       "Class               0\n",
       "dtype: int64"
      ]
     },
     "execution_count": 11,
     "metadata": {},
     "output_type": "execute_result"
    }
   ],
   "source": [
    "df.isna().sum()"
   ]
  },
  {
   "cell_type": "code",
   "execution_count": 12,
   "id": "d0253868-e11e-4cfc-82a9-173eaaf366b6",
   "metadata": {},
   "outputs": [],
   "source": [
    "df = df.drop(columns = [\"ALK PHOSPHATE\", \"PROTIME\"])"
   ]
  },
  {
   "cell_type": "code",
   "execution_count": 13,
   "id": "9a656e6f-483b-453c-8ee4-5fe6f1c2bc8c",
   "metadata": {},
   "outputs": [
    {
     "data": {
      "text/plain": [
       "['SEX',\n",
       " 'STEROID',\n",
       " 'ANTIVIRALS',\n",
       " 'FATIGUE',\n",
       " 'MALAISE',\n",
       " 'ANOREXIA',\n",
       " 'LIVER BIG',\n",
       " 'LIVER FIRM',\n",
       " 'SPLEEN PALPABLE',\n",
       " 'SPIDERS',\n",
       " 'ASCITES',\n",
       " 'VARICES',\n",
       " 'HISTOLOGY',\n",
       " 'Class']"
      ]
     },
     "execution_count": 13,
     "metadata": {},
     "output_type": "execute_result"
    }
   ],
   "source": [
    "col_binary = []\n",
    "for col in df.columns:\n",
    "    if df[col].nunique() == 2:\n",
    "        col_binary.append(col)        \n",
    "col_binary"
   ]
  },
  {
   "cell_type": "code",
   "execution_count": 14,
   "id": "952cf4c8-8697-4304-84b8-874ab0307492",
   "metadata": {},
   "outputs": [],
   "source": [
    "# replacing missing values in binary columns with mode\n",
    "for col in col_binary:\n",
    "    df[col] = df[col].fillna(df[col].mode()[0])"
   ]
  },
  {
   "cell_type": "code",
   "execution_count": 15,
   "id": "7b3b1aaa-6ed9-4353-8af9-268940334d5c",
   "metadata": {},
   "outputs": [
    {
     "data": {
      "text/plain": [
       "AGE                0\n",
       "SEX                0\n",
       "STEROID            0\n",
       "ANTIVIRALS         0\n",
       "FATIGUE            0\n",
       "MALAISE            0\n",
       "ANOREXIA           0\n",
       "LIVER BIG          0\n",
       "LIVER FIRM         0\n",
       "SPLEEN PALPABLE    0\n",
       "SPIDERS            0\n",
       "ASCITES            0\n",
       "VARICES            0\n",
       "BILIRUBIN          3\n",
       "SGOT               3\n",
       "ALBUMIN            9\n",
       "HISTOLOGY          0\n",
       "Class              0\n",
       "dtype: int64"
      ]
     },
     "execution_count": 15,
     "metadata": {},
     "output_type": "execute_result"
    }
   ],
   "source": [
    "df.isnull().sum()"
   ]
  },
  {
   "cell_type": "code",
   "execution_count": 16,
   "id": "89e87096-ba6b-40d9-b34a-4466a416c013",
   "metadata": {},
   "outputs": [],
   "source": [
    "# interpolating the rest \n",
    "df = df.interpolate()"
   ]
  },
  {
   "cell_type": "code",
   "execution_count": 17,
   "id": "eebe3528-fa6c-4d35-b7c9-df43b4122953",
   "metadata": {
    "scrolled": true
   },
   "outputs": [
    {
     "name": "stdout",
     "output_type": "stream",
     "text": [
      " sex: 0.16787005172844502, \n",
      "steroid: 0.13124121770334668, \n",
      "antivirals: -0.14296251865773682, \n",
      "fatigue: 0.34219629061231455, \n",
      "malaise: 0.37229335019892396, \n",
      "anorexia: 0.20951312035156971, \n",
      "liver big: -0.0567825569410942, \n",
      "liver firm: 0.08763841367493645, \n",
      "spllen : 0.2891642656084279, \n",
      "spiders: 0.41147559989891175, \n",
      "ascites: 0.5324781182868407, \n",
      "varices: 0.3870624072687478, \n",
      "bilirubin: -0.47328341022222653, \n",
      "sgot: -0.12498450161028264, \n",
      "histology: -0.363696483726654\n"
     ]
    }
   ],
   "source": [
    "from scipy.stats import pointbiserialr\n",
    "r_pb_sex,_ = pointbiserialr(df.Class, df.SEX)\n",
    "r_pb_steroid,_ = pointbiserialr(df.Class, df.STEROID)\n",
    "r_pb_antiv,_ = pointbiserialr(df.Class, df.ANTIVIRALS)\n",
    "r_pb_fat,_ = pointbiserialr(df.Class, df.FATIGUE)\n",
    "r_pb_malaise,_ = pointbiserialr(df.Class, df.MALAISE)\n",
    "r_pb_anorexia,_ = pointbiserialr(df.Class, df.ANOREXIA)\n",
    "r_pb_lbig,_ = pointbiserialr(df.Class, df['LIVER BIG'])\n",
    "r_pb_lfirm,_ = pointbiserialr(df.Class, df['LIVER FIRM'])\n",
    "r_pb_spleen,_ = pointbiserialr(df.Class, df['SPLEEN PALPABLE'])\n",
    "r_pb_spiders,_ = pointbiserialr(df.Class, df.SPIDERS)\n",
    "r_pb_ascites,_ = pointbiserialr(df.Class, df.ASCITES)\n",
    "r_pb_varices,_ = pointbiserialr(df.Class, df.VARICES)\n",
    "r_pb_bilirubin,_ = pointbiserialr(df.Class, df.BILIRUBIN)\n",
    "r_pb_sgot,_ = pointbiserialr(df.Class, df.SGOT)\n",
    "r_pb_histology,_ = pointbiserialr(df.Class, df.HISTOLOGY)\n",
    "\n",
    "print(f\"\"\" sex: {r_pb_sex}, \n",
    "steroid: {r_pb_steroid}, \n",
    "antivirals: {r_pb_antiv}, \n",
    "fatigue: {r_pb_fat}, \n",
    "malaise: {r_pb_malaise}, \n",
    "anorexia: {r_pb_anorexia}, \n",
    "liver big: {r_pb_lbig}, \n",
    "liver firm: {r_pb_lfirm}, \n",
    "spllen : {r_pb_spleen}, \n",
    "spiders: {r_pb_spiders}, \n",
    "ascites: {r_pb_ascites}, \n",
    "varices: {r_pb_varices}, \n",
    "bilirubin: {r_pb_bilirubin}, \n",
    "sgot: {r_pb_sgot}, \n",
    "histology: {r_pb_histology}\"\"\")"
   ]
  },
  {
   "cell_type": "markdown",
   "id": "2a279a7b-9288-4d2b-b46e-536e2398cdcd",
   "metadata": {},
   "source": [
    "## To be predicted Set"
   ]
  },
  {
   "cell_type": "code",
   "execution_count": 18,
   "id": "dee21ee2-66ba-47fc-8b2b-7c18a3fb635a",
   "metadata": {},
   "outputs": [
    {
     "data": {
      "text/html": [
       "<div>\n",
       "<style scoped>\n",
       "    .dataframe tbody tr th:only-of-type {\n",
       "        vertical-align: middle;\n",
       "    }\n",
       "\n",
       "    .dataframe tbody tr th {\n",
       "        vertical-align: top;\n",
       "    }\n",
       "\n",
       "    .dataframe thead th {\n",
       "        text-align: right;\n",
       "    }\n",
       "</style>\n",
       "<table border=\"1\" class=\"dataframe\">\n",
       "  <thead>\n",
       "    <tr style=\"text-align: right;\">\n",
       "      <th></th>\n",
       "      <th>AGE</th>\n",
       "      <th>SEX</th>\n",
       "      <th>STEROID</th>\n",
       "      <th>ANTIVIRALS</th>\n",
       "      <th>FATIGUE</th>\n",
       "      <th>MALAISE</th>\n",
       "      <th>ANOREXIA</th>\n",
       "      <th>LIVER BIG</th>\n",
       "      <th>LIVER FIRM</th>\n",
       "      <th>SPLEEN PALPABLE</th>\n",
       "      <th>SPIDERS</th>\n",
       "      <th>ASCITES</th>\n",
       "      <th>VARICES</th>\n",
       "      <th>BILIRUBIN</th>\n",
       "      <th>ALK PHOSPHATE</th>\n",
       "      <th>SGOT</th>\n",
       "      <th>ALBUMIN</th>\n",
       "      <th>PROTIME</th>\n",
       "      <th>HISTOLOGY</th>\n",
       "    </tr>\n",
       "  </thead>\n",
       "  <tbody>\n",
       "    <tr>\n",
       "      <th>0</th>\n",
       "      <td>39</td>\n",
       "      <td>Male</td>\n",
       "      <td>2</td>\n",
       "      <td>2</td>\n",
       "      <td>1</td>\n",
       "      <td>2</td>\n",
       "      <td>2</td>\n",
       "      <td>2</td>\n",
       "      <td>1</td>\n",
       "      <td>2</td>\n",
       "      <td>2</td>\n",
       "      <td>2</td>\n",
       "      <td>2</td>\n",
       "      <td>0.70</td>\n",
       "      <td>?</td>\n",
       "      <td>48</td>\n",
       "      <td>4.4</td>\n",
       "      <td>?</td>\n",
       "      <td>1</td>\n",
       "    </tr>\n",
       "    <tr>\n",
       "      <th>1</th>\n",
       "      <td>41</td>\n",
       "      <td>Feamle</td>\n",
       "      <td>2</td>\n",
       "      <td>1</td>\n",
       "      <td>1</td>\n",
       "      <td>1</td>\n",
       "      <td>1</td>\n",
       "      <td>2</td>\n",
       "      <td>2</td>\n",
       "      <td>2</td>\n",
       "      <td>2</td>\n",
       "      <td>2</td>\n",
       "      <td>2</td>\n",
       "      <td>0.70</td>\n",
       "      <td>81</td>\n",
       "      <td>53</td>\n",
       "      <td>5.0</td>\n",
       "      <td>74</td>\n",
       "      <td>1</td>\n",
       "    </tr>\n",
       "    <tr>\n",
       "      <th>2</th>\n",
       "      <td>28</td>\n",
       "      <td>maled</td>\n",
       "      <td>1</td>\n",
       "      <td>2</td>\n",
       "      <td>1</td>\n",
       "      <td>1</td>\n",
       "      <td>1</td>\n",
       "      <td>2</td>\n",
       "      <td>1</td>\n",
       "      <td>2</td>\n",
       "      <td>2</td>\n",
       "      <td>2</td>\n",
       "      <td>2</td>\n",
       "      <td>1.60</td>\n",
       "      <td>44</td>\n",
       "      <td>123</td>\n",
       "      <td>4.0</td>\n",
       "      <td>46</td>\n",
       "      <td>1</td>\n",
       "    </tr>\n",
       "    <tr>\n",
       "      <th>3</th>\n",
       "      <td>36</td>\n",
       "      <td>maled</td>\n",
       "      <td>1</td>\n",
       "      <td>2</td>\n",
       "      <td>1</td>\n",
       "      <td>1</td>\n",
       "      <td>1</td>\n",
       "      <td>2</td>\n",
       "      <td>1</td>\n",
       "      <td>2</td>\n",
       "      <td>2</td>\n",
       "      <td>2</td>\n",
       "      <td>2</td>\n",
       "      <td>1.00</td>\n",
       "      <td>?</td>\n",
       "      <td>45</td>\n",
       "      <td>4.0</td>\n",
       "      <td>57</td>\n",
       "      <td>1</td>\n",
       "    </tr>\n",
       "    <tr>\n",
       "      <th>4</th>\n",
       "      <td>32</td>\n",
       "      <td>M</td>\n",
       "      <td>2</td>\n",
       "      <td>2</td>\n",
       "      <td>2</td>\n",
       "      <td>2</td>\n",
       "      <td>2</td>\n",
       "      <td>2</td>\n",
       "      <td>2</td>\n",
       "      <td>2</td>\n",
       "      <td>2</td>\n",
       "      <td>2</td>\n",
       "      <td>2</td>\n",
       "      <td>0.70</td>\n",
       "      <td>102</td>\n",
       "      <td>64</td>\n",
       "      <td>4.0</td>\n",
       "      <td>90</td>\n",
       "      <td>1</td>\n",
       "    </tr>\n",
       "  </tbody>\n",
       "</table>\n",
       "</div>"
      ],
      "text/plain": [
       "   AGE     SEX  STEROID  ANTIVIRALS FATIGUE MALAISE ANOREXIA LIVER BIG  \\\n",
       "0   39    Male        2           2       1       2        2         2   \n",
       "1   41  Feamle        2           1       1       1        1         2   \n",
       "2   28   maled        1           2       1       1        1         2   \n",
       "3   36   maled        1           2       1       1        1         2   \n",
       "4   32       M        2           2       2       2        2         2   \n",
       "\n",
       "  LIVER FIRM SPLEEN PALPABLE SPIDERS ASCITES VARICES BILIRUBIN ALK PHOSPHATE  \\\n",
       "0          1               2       2       2       2      0.70             ?   \n",
       "1          2               2       2       2       2      0.70            81   \n",
       "2          1               2       2       2       2      1.60            44   \n",
       "3          1               2       2       2       2      1.00             ?   \n",
       "4          2               2       2       2       2      0.70           102   \n",
       "\n",
       "  SGOT ALBUMIN PROTIME  HISTOLOGY  \n",
       "0   48     4.4       ?          1  \n",
       "1   53     5.0      74          1  \n",
       "2  123     4.0      46          1  \n",
       "3   45     4.0      57          1  \n",
       "4   64     4.0      90          1  "
      ]
     },
     "execution_count": 18,
     "metadata": {},
     "output_type": "execute_result"
    }
   ],
   "source": [
    "df2.head(5)"
   ]
  },
  {
   "cell_type": "code",
   "execution_count": 19,
   "id": "03fab093",
   "metadata": {},
   "outputs": [
    {
     "data": {
      "text/plain": [
       "AGE                 int64\n",
       "SEX                object\n",
       "STEROID             int64\n",
       "ANTIVIRALS          int64\n",
       "FATIGUE            object\n",
       "MALAISE            object\n",
       "ANOREXIA           object\n",
       "LIVER BIG          object\n",
       "LIVER FIRM         object\n",
       "SPLEEN PALPABLE    object\n",
       "SPIDERS            object\n",
       "ASCITES            object\n",
       "VARICES            object\n",
       "BILIRUBIN          object\n",
       "ALK PHOSPHATE      object\n",
       "SGOT               object\n",
       "ALBUMIN            object\n",
       "PROTIME            object\n",
       "HISTOLOGY           int64\n",
       "dtype: object"
      ]
     },
     "execution_count": 19,
     "metadata": {},
     "output_type": "execute_result"
    }
   ],
   "source": [
    "df2.dtypes"
   ]
  },
  {
   "cell_type": "code",
   "execution_count": 20,
   "id": "d781994d",
   "metadata": {},
   "outputs": [
    {
     "name": "stdout",
     "output_type": "stream",
     "text": [
      "AGE [39 41 28 36 32 25 22 47 20 30 66 34 45 78 72 49 57 42 37 38 24 58 33 64\n",
      " 26 62 61 70 54 27 35 31]\n",
      "SEX ['Male' 'Feamle' 'maled' 'M' 'm' 'female' 'meale' 'male' 'F']\n",
      "STEROID [2 1]\n",
      "ANTIVIRALS [2 1]\n",
      "FATIGUE ['1' '2' '?']\n",
      "MALAISE ['2' '1' '?']\n",
      "ANOREXIA ['2' '1' '?']\n",
      "LIVER BIG ['2' '1' '?']\n",
      "LIVER FIRM ['1' '2' '?']\n",
      "SPLEEN PALPABLE ['2' '1' '?']\n",
      "SPIDERS ['2' '1' '?']\n",
      "ASCITES ['2' '1' '?']\n",
      "VARICES ['2' '1' '?']\n",
      "BILIRUBIN ['0.70' '1.60' '1.00' '0.40' '2.00' '2.30' '2.20' '1.20' '?' '1.70' '0.80'\n",
      " '1.40' '4.10' '0.60' '1.50' '4.60' '0.50' '3.50' '1.80' '4.20' '0.90']\n",
      "ALK PHOSPHATE ['?' '81' '44' '102' '45' '84' '150' '57' '295' '96' '147' '59' '115' '85'\n",
      " '67' '125' '100' '82' '175' '63' '80' '118' '135' '75' '215' '109' '72'\n",
      " '191' '160' '280' '26' '62' '133' '65' '58' '70']\n",
      "SGOT ['48' '53' '123' '45' '64' '18' '24' '23' '68' '144' '86' '65' '60' '32'\n",
      " '128' '249' '52' '70' '14' '28' '31' '39' '55' '80' '38' '16' '40' '29'\n",
      " '20' '54' '528' '89' '420' '118' '?' '98' '58' '92' '224' '648' '120'\n",
      " '34' '173']\n",
      "ALBUMIN ['4.4' '5.0' '4.0' '4.3' '?' '4.2' '3.9' '4.9' '3.0' '2.7' '3.7' '3.4'\n",
      " '3.5' '2.6' '2.8' '3.3' '3.8' '4.1' '2.9' '4.5' '3.1' '6.4']\n",
      "PROTIME ['?' '74' '46' '57' '90' '70' '66' '78' '100' '54' '50' '35' '73' '77'\n",
      " '36' '31' '30' '60' '29' '23' '40' '39' '62']\n",
      "HISTOLOGY [1 2]\n"
     ]
    }
   ],
   "source": [
    "col = df2.columns\n",
    "for col in col:\n",
    "    print(col, df2[col].unique())"
   ]
  },
  {
   "cell_type": "code",
   "execution_count": 21,
   "id": "6004d786-eb82-4688-aa92-bf18a1c20d87",
   "metadata": {},
   "outputs": [
    {
     "data": {
      "text/plain": [
       "AGE                0\n",
       "SEX                0\n",
       "STEROID            0\n",
       "ANTIVIRALS         0\n",
       "FATIGUE            0\n",
       "MALAISE            0\n",
       "ANOREXIA           0\n",
       "LIVER BIG          0\n",
       "LIVER FIRM         0\n",
       "SPLEEN PALPABLE    0\n",
       "SPIDERS            0\n",
       "ASCITES            0\n",
       "VARICES            0\n",
       "BILIRUBIN          0\n",
       "ALK PHOSPHATE      0\n",
       "SGOT               0\n",
       "ALBUMIN            0\n",
       "PROTIME            0\n",
       "HISTOLOGY          0\n",
       "dtype: int64"
      ]
     },
     "execution_count": 21,
     "metadata": {},
     "output_type": "execute_result"
    }
   ],
   "source": [
    "df2.isna().sum()"
   ]
  },
  {
   "cell_type": "code",
   "execution_count": 22,
   "id": "9df649d0-7028-47fb-b22d-f78ee391fde8",
   "metadata": {},
   "outputs": [],
   "source": [
    "# Convertin \"male\" to 0 and \"female\" to 1\n",
    "\n",
    "gender_mapping = {\"Male\":0, \n",
    "                  \"Feamle\":1, \n",
    "                  \"maled\":0,\n",
    "                  \"m\":0, \n",
    "                  \"female\":1, \n",
    "                  \"meale\":0, \n",
    "                  \"male\":0,\n",
    "                  \"M\":0,\n",
    "                  \"F\":1}\n",
    "\n",
    "df2[\"SEX\"] = df2[\"SEX\"].map(gender_mapping)"
   ]
  },
  {
   "cell_type": "code",
   "execution_count": 23,
   "id": "4b47b2e5-44d7-4672-a9d0-d60de031bc5f",
   "metadata": {},
   "outputs": [
    {
     "data": {
      "text/html": [
       "<div>\n",
       "<style scoped>\n",
       "    .dataframe tbody tr th:only-of-type {\n",
       "        vertical-align: middle;\n",
       "    }\n",
       "\n",
       "    .dataframe tbody tr th {\n",
       "        vertical-align: top;\n",
       "    }\n",
       "\n",
       "    .dataframe thead th {\n",
       "        text-align: right;\n",
       "    }\n",
       "</style>\n",
       "<table border=\"1\" class=\"dataframe\">\n",
       "  <thead>\n",
       "    <tr style=\"text-align: right;\">\n",
       "      <th></th>\n",
       "      <th>AGE</th>\n",
       "      <th>SEX</th>\n",
       "      <th>STEROID</th>\n",
       "      <th>ANTIVIRALS</th>\n",
       "      <th>FATIGUE</th>\n",
       "      <th>MALAISE</th>\n",
       "      <th>ANOREXIA</th>\n",
       "      <th>LIVER BIG</th>\n",
       "      <th>LIVER FIRM</th>\n",
       "      <th>SPLEEN PALPABLE</th>\n",
       "      <th>SPIDERS</th>\n",
       "      <th>ASCITES</th>\n",
       "      <th>VARICES</th>\n",
       "      <th>BILIRUBIN</th>\n",
       "      <th>ALK PHOSPHATE</th>\n",
       "      <th>SGOT</th>\n",
       "      <th>ALBUMIN</th>\n",
       "      <th>PROTIME</th>\n",
       "      <th>HISTOLOGY</th>\n",
       "    </tr>\n",
       "  </thead>\n",
       "  <tbody>\n",
       "    <tr>\n",
       "      <th>0</th>\n",
       "      <td>39</td>\n",
       "      <td>0</td>\n",
       "      <td>2</td>\n",
       "      <td>2</td>\n",
       "      <td>1</td>\n",
       "      <td>2</td>\n",
       "      <td>2</td>\n",
       "      <td>2</td>\n",
       "      <td>1</td>\n",
       "      <td>2</td>\n",
       "      <td>2</td>\n",
       "      <td>2</td>\n",
       "      <td>2</td>\n",
       "      <td>0.70</td>\n",
       "      <td>?</td>\n",
       "      <td>48</td>\n",
       "      <td>4.4</td>\n",
       "      <td>?</td>\n",
       "      <td>1</td>\n",
       "    </tr>\n",
       "    <tr>\n",
       "      <th>1</th>\n",
       "      <td>41</td>\n",
       "      <td>1</td>\n",
       "      <td>2</td>\n",
       "      <td>1</td>\n",
       "      <td>1</td>\n",
       "      <td>1</td>\n",
       "      <td>1</td>\n",
       "      <td>2</td>\n",
       "      <td>2</td>\n",
       "      <td>2</td>\n",
       "      <td>2</td>\n",
       "      <td>2</td>\n",
       "      <td>2</td>\n",
       "      <td>0.70</td>\n",
       "      <td>81</td>\n",
       "      <td>53</td>\n",
       "      <td>5.0</td>\n",
       "      <td>74</td>\n",
       "      <td>1</td>\n",
       "    </tr>\n",
       "    <tr>\n",
       "      <th>2</th>\n",
       "      <td>28</td>\n",
       "      <td>0</td>\n",
       "      <td>1</td>\n",
       "      <td>2</td>\n",
       "      <td>1</td>\n",
       "      <td>1</td>\n",
       "      <td>1</td>\n",
       "      <td>2</td>\n",
       "      <td>1</td>\n",
       "      <td>2</td>\n",
       "      <td>2</td>\n",
       "      <td>2</td>\n",
       "      <td>2</td>\n",
       "      <td>1.60</td>\n",
       "      <td>44</td>\n",
       "      <td>123</td>\n",
       "      <td>4.0</td>\n",
       "      <td>46</td>\n",
       "      <td>1</td>\n",
       "    </tr>\n",
       "    <tr>\n",
       "      <th>3</th>\n",
       "      <td>36</td>\n",
       "      <td>0</td>\n",
       "      <td>1</td>\n",
       "      <td>2</td>\n",
       "      <td>1</td>\n",
       "      <td>1</td>\n",
       "      <td>1</td>\n",
       "      <td>2</td>\n",
       "      <td>1</td>\n",
       "      <td>2</td>\n",
       "      <td>2</td>\n",
       "      <td>2</td>\n",
       "      <td>2</td>\n",
       "      <td>1.00</td>\n",
       "      <td>?</td>\n",
       "      <td>45</td>\n",
       "      <td>4.0</td>\n",
       "      <td>57</td>\n",
       "      <td>1</td>\n",
       "    </tr>\n",
       "    <tr>\n",
       "      <th>4</th>\n",
       "      <td>32</td>\n",
       "      <td>0</td>\n",
       "      <td>2</td>\n",
       "      <td>2</td>\n",
       "      <td>2</td>\n",
       "      <td>2</td>\n",
       "      <td>2</td>\n",
       "      <td>2</td>\n",
       "      <td>2</td>\n",
       "      <td>2</td>\n",
       "      <td>2</td>\n",
       "      <td>2</td>\n",
       "      <td>2</td>\n",
       "      <td>0.70</td>\n",
       "      <td>102</td>\n",
       "      <td>64</td>\n",
       "      <td>4.0</td>\n",
       "      <td>90</td>\n",
       "      <td>1</td>\n",
       "    </tr>\n",
       "  </tbody>\n",
       "</table>\n",
       "</div>"
      ],
      "text/plain": [
       "   AGE  SEX  STEROID  ANTIVIRALS FATIGUE MALAISE ANOREXIA LIVER BIG  \\\n",
       "0   39    0        2           2       1       2        2         2   \n",
       "1   41    1        2           1       1       1        1         2   \n",
       "2   28    0        1           2       1       1        1         2   \n",
       "3   36    0        1           2       1       1        1         2   \n",
       "4   32    0        2           2       2       2        2         2   \n",
       "\n",
       "  LIVER FIRM SPLEEN PALPABLE SPIDERS ASCITES VARICES BILIRUBIN ALK PHOSPHATE  \\\n",
       "0          1               2       2       2       2      0.70             ?   \n",
       "1          2               2       2       2       2      0.70            81   \n",
       "2          1               2       2       2       2      1.60            44   \n",
       "3          1               2       2       2       2      1.00             ?   \n",
       "4          2               2       2       2       2      0.70           102   \n",
       "\n",
       "  SGOT ALBUMIN PROTIME  HISTOLOGY  \n",
       "0   48     4.4       ?          1  \n",
       "1   53     5.0      74          1  \n",
       "2  123     4.0      46          1  \n",
       "3   45     4.0      57          1  \n",
       "4   64     4.0      90          1  "
      ]
     },
     "execution_count": 23,
     "metadata": {},
     "output_type": "execute_result"
    }
   ],
   "source": [
    "df2.head(5)"
   ]
  },
  {
   "cell_type": "code",
   "execution_count": 24,
   "id": "8535bfc6-b21f-4bde-b6f5-10f5f90bd7bf",
   "metadata": {},
   "outputs": [],
   "source": [
    "df2 = df2.apply(pd.to_numeric, errors='coerce')"
   ]
  },
  {
   "cell_type": "code",
   "execution_count": 25,
   "id": "b88dfeb4",
   "metadata": {},
   "outputs": [
    {
     "data": {
      "text/plain": [
       "AGE                  int64\n",
       "SEX                  int64\n",
       "STEROID              int64\n",
       "ANTIVIRALS           int64\n",
       "FATIGUE            float64\n",
       "MALAISE            float64\n",
       "ANOREXIA           float64\n",
       "LIVER BIG          float64\n",
       "LIVER FIRM         float64\n",
       "SPLEEN PALPABLE    float64\n",
       "SPIDERS            float64\n",
       "ASCITES            float64\n",
       "VARICES            float64\n",
       "BILIRUBIN          float64\n",
       "ALK PHOSPHATE      float64\n",
       "SGOT               float64\n",
       "ALBUMIN            float64\n",
       "PROTIME            float64\n",
       "HISTOLOGY            int64\n",
       "dtype: object"
      ]
     },
     "execution_count": 25,
     "metadata": {},
     "output_type": "execute_result"
    }
   ],
   "source": [
    "df2.dtypes"
   ]
  },
  {
   "cell_type": "code",
   "execution_count": 26,
   "id": "cf212556-af9e-4e1f-a4b9-478a460435e8",
   "metadata": {},
   "outputs": [
    {
     "data": {
      "text/plain": [
       "array([0, 1])"
      ]
     },
     "execution_count": 26,
     "metadata": {},
     "output_type": "execute_result"
    }
   ],
   "source": [
    "df.SEX.unique()"
   ]
  },
  {
   "cell_type": "code",
   "execution_count": 27,
   "id": "f6ae0f90",
   "metadata": {},
   "outputs": [
    {
     "data": {
      "text/plain": [
       "AGE                 0\n",
       "SEX                 0\n",
       "STEROID             0\n",
       "ANTIVIRALS          0\n",
       "FATIGUE             1\n",
       "MALAISE             1\n",
       "ANOREXIA            1\n",
       "LIVER BIG           4\n",
       "LIVER FIRM          4\n",
       "SPLEEN PALPABLE     2\n",
       "SPIDERS             2\n",
       "ASCITES             2\n",
       "VARICES             2\n",
       "BILIRUBIN           3\n",
       "ALK PHOSPHATE      11\n",
       "SGOT                1\n",
       "ALBUMIN             7\n",
       "PROTIME            20\n",
       "HISTOLOGY           0\n",
       "dtype: int64"
      ]
     },
     "execution_count": 27,
     "metadata": {},
     "output_type": "execute_result"
    }
   ],
   "source": [
    "df2.isna().sum()"
   ]
  },
  {
   "cell_type": "code",
   "execution_count": 28,
   "id": "4eaa7cfd",
   "metadata": {},
   "outputs": [],
   "source": [
    "df2 = df2.drop(columns = [\"ALK PHOSPHATE\", \"PROTIME\"])"
   ]
  },
  {
   "cell_type": "code",
   "execution_count": 29,
   "id": "ff426faa-6e18-4f9a-86ab-ab2d57dc5e21",
   "metadata": {},
   "outputs": [
    {
     "data": {
      "text/plain": [
       "['SEX',\n",
       " 'STEROID',\n",
       " 'ANTIVIRALS',\n",
       " 'FATIGUE',\n",
       " 'MALAISE',\n",
       " 'ANOREXIA',\n",
       " 'LIVER BIG',\n",
       " 'LIVER FIRM',\n",
       " 'SPLEEN PALPABLE',\n",
       " 'SPIDERS',\n",
       " 'ASCITES',\n",
       " 'VARICES',\n",
       " 'HISTOLOGY']"
      ]
     },
     "execution_count": 29,
     "metadata": {},
     "output_type": "execute_result"
    }
   ],
   "source": [
    "col_binary = []\n",
    "for col in df2.columns:\n",
    "    if df2[col].nunique() == 2:\n",
    "        col_binary.append(col)        \n",
    "col_binary"
   ]
  },
  {
   "cell_type": "code",
   "execution_count": 30,
   "id": "1e429822-10f3-4878-8a53-39419d391783",
   "metadata": {},
   "outputs": [],
   "source": [
    "# replacing missing values in binary columns with mode\n",
    "for col in col_binary:\n",
    "    df2[col] = df2[col].fillna(df[col].mode()[0])"
   ]
  },
  {
   "cell_type": "code",
   "execution_count": 31,
   "id": "858ed2f9",
   "metadata": {},
   "outputs": [
    {
     "data": {
      "text/plain": [
       "AGE                0\n",
       "SEX                0\n",
       "STEROID            0\n",
       "ANTIVIRALS         0\n",
       "FATIGUE            0\n",
       "MALAISE            0\n",
       "ANOREXIA           0\n",
       "LIVER BIG          0\n",
       "LIVER FIRM         0\n",
       "SPLEEN PALPABLE    0\n",
       "SPIDERS            0\n",
       "ASCITES            0\n",
       "VARICES            0\n",
       "BILIRUBIN          3\n",
       "SGOT               1\n",
       "ALBUMIN            7\n",
       "HISTOLOGY          0\n",
       "dtype: int64"
      ]
     },
     "execution_count": 31,
     "metadata": {},
     "output_type": "execute_result"
    }
   ],
   "source": [
    "df2.isna().sum()"
   ]
  },
  {
   "cell_type": "code",
   "execution_count": 32,
   "id": "2022b1a3",
   "metadata": {},
   "outputs": [],
   "source": [
    "# interpolating the rest \n",
    "df2 = df2.interpolate()"
   ]
  },
  {
   "cell_type": "markdown",
   "id": "ebd0a2b5",
   "metadata": {},
   "source": [
    "## Modeling "
   ]
  },
  {
   "cell_type": "code",
   "execution_count": 33,
   "id": "9fc7df76",
   "metadata": {},
   "outputs": [],
   "source": [
    "from sklearn.model_selection import train_test_split\n",
    "from sklearn.preprocessing import MinMaxScaler, StandardScaler\n",
    "from sklearn.metrics import r2_score, mean_absolute_error, mean_squared_error\n",
    "from sklearn.neighbors import KNeighborsRegressor\n",
    "from sklearn.linear_model import LogisticRegression\n",
    "from sklearn import metrics\n",
    "from sklearn.metrics import cohen_kappa_score, accuracy_score\n",
    "from sklearn.ensemble import BaggingClassifier, AdaBoostClassifier, RandomForestClassifier\n",
    "from sklearn.tree import DecisionTreeClassifier\n"
   ]
  },
  {
   "cell_type": "markdown",
   "id": "08216abc-c117-4267-8d66-439c4640c56f",
   "metadata": {},
   "source": [
    "### Version 1 - no dropping columns "
   ]
  },
  {
   "cell_type": "code",
   "execution_count": 34,
   "id": "49fd0dcc",
   "metadata": {},
   "outputs": [],
   "source": [
    "X = df.drop(columns =\"Class\")\n",
    "y = df[\"Class\"]\n",
    "X_train, X_test, y_train, y_test = train_test_split(X, y, test_size = 0.25, random_state = 10)"
   ]
  },
  {
   "cell_type": "markdown",
   "id": "cfb12989-3eb4-4814-9b25-570093b6f90a",
   "metadata": {},
   "source": [
    "#### Normalization"
   ]
  },
  {
   "cell_type": "code",
   "execution_count": 35,
   "id": "dfa02965",
   "metadata": {},
   "outputs": [],
   "source": [
    "normalizer = MinMaxScaler()\n",
    "\n",
    "# training dataset \n",
    "normalizer.fit(X_train)\n",
    "X_train_norm = normalizer.transform(X_train)\n",
    "X_test_norm = normalizer.transform(X_test)"
   ]
  },
  {
   "cell_type": "markdown",
   "id": "015e6973-c88b-44fe-8919-dd1aaf61fb68",
   "metadata": {},
   "source": [
    "#### Logsitic Regression"
   ]
  },
  {
   "cell_type": "code",
   "execution_count": 36,
   "id": "3d802ef6",
   "metadata": {},
   "outputs": [
    {
     "name": "stdout",
     "output_type": "stream",
     "text": [
      "The accuracy of the model on the TEST set is:  0.88\n",
      "Cohen's Kappa: 0.3389830508474576\n"
     ]
    }
   ],
   "source": [
    "#train\n",
    "logreg = LogisticRegression(random_state=10)\n",
    "logreg.fit(X_train_norm, y_train)\n",
    "\n",
    "# predict \n",
    "y_pred_log = logreg.predict(X_test_norm)\n",
    "\n",
    "#evaluate\n",
    "print(f\"The accuracy of the model on the TEST set is: {metrics.accuracy_score(y_test, y_pred_log): .2f}\")\n",
    "kappa = cohen_kappa_score(y_test, y_pred_log)\n",
    "print(\"Cohen's Kappa:\", kappa)\n"
   ]
  },
  {
   "cell_type": "markdown",
   "id": "3b483012-dc9b-4ff0-9d91-c91f31e5ebbd",
   "metadata": {},
   "source": [
    "#### Bagging "
   ]
  },
  {
   "cell_type": "code",
   "execution_count": 37,
   "id": "6032f6d4-9dad-44f4-9cec-1fd53757615c",
   "metadata": {},
   "outputs": [
    {
     "name": "stdout",
     "output_type": "stream",
     "text": [
      "The accuracy of the model on the TEST set is: 0.92\n",
      "Cohen's Kappa: 0.45833333333333337\n"
     ]
    }
   ],
   "source": [
    "bagging = BaggingClassifier(random_state=10)\n",
    "bagging.fit(X_train_norm, y_train)\n",
    "\n",
    "# predict \n",
    "y_pred_bag = bagging.predict(X_test_norm)\n",
    "\n",
    "#evaluate\n",
    "print(f\"The accuracy of the model on the TEST set is: {metrics.accuracy_score(y_test, y_pred_bag):.2f}\")\n",
    "kappa_bagging = cohen_kappa_score(y_test, y_pred_bag)\n",
    "print(\"Cohen's Kappa:\", kappa_bagging)\n"
   ]
  },
  {
   "cell_type": "markdown",
   "id": "72fc2fe6-5bfe-4e4f-8455-986f8dd9466b",
   "metadata": {},
   "source": [
    "#### AdaBoost Classifier"
   ]
  },
  {
   "cell_type": "code",
   "execution_count": 38,
   "id": "0dd92329-ff83-4f06-b017-ef7310069fe9",
   "metadata": {},
   "outputs": [
    {
     "name": "stdout",
     "output_type": "stream",
     "text": [
      "The accuracy of the model on the TEST set is: 0.92\n",
      "Cohen's Kappa: 0.45833333333333337\n"
     ]
    },
    {
     "name": "stderr",
     "output_type": "stream",
     "text": [
      "/Users/leilajavanmardi/anaconda3/lib/python3.11/site-packages/sklearn/ensemble/_weight_boosting.py:519: FutureWarning: The SAMME.R algorithm (the default) is deprecated and will be removed in 1.6. Use the SAMME algorithm to circumvent this warning.\n",
      "  warnings.warn(\n"
     ]
    }
   ],
   "source": [
    "adaboost = AdaBoostClassifier(random_state=10)\n",
    "adaboost.fit(X_train_norm, y_train)\n",
    "\n",
    "y_pred_ada = adaboost.predict(X_test_norm)\n",
    "\n",
    "print(f\"The accuracy of the model on the TEST set is: {metrics.accuracy_score(y_test, y_pred_ada):.2f}\")\n",
    "kappa_adaboost = cohen_kappa_score(y_test, y_pred_ada)\n",
    "print(\"Cohen's Kappa:\", kappa_adaboost)"
   ]
  },
  {
   "cell_type": "markdown",
   "id": "7d88041d-83d9-40e4-97bc-bfc18c752be6",
   "metadata": {},
   "source": [
    "#### Random Patch"
   ]
  },
  {
   "cell_type": "code",
   "execution_count": 39,
   "id": "0082bb67-1632-4bae-8dd5-4389f0b47725",
   "metadata": {},
   "outputs": [
    {
     "name": "stdout",
     "output_type": "stream",
     "text": [
      "The accuracy of the model on the TEST set is: 0.92\n",
      "Cohen's Kappa: 0.45833333333333337\n"
     ]
    }
   ],
   "source": [
    "random_patch = RandomForestClassifier(random_state=10)\n",
    "random_patch.fit(X_train_norm, y_train)\n",
    "\n",
    "y_pred_random_patch = random_patch.predict(X_test_norm)\n",
    "\n",
    "print(f\"The accuracy of the model on the TEST set is: {metrics.accuracy_score(y_test, y_pred_random_patch):.2f}\")\n",
    "kappa_random_patch = cohen_kappa_score(y_test, y_pred_random_patch)\n",
    "print(\"Cohen's Kappa:\", kappa_random_patch)\n"
   ]
  },
  {
   "cell_type": "markdown",
   "id": "5da7b166-c29d-4d0d-9759-52884f21fb9c",
   "metadata": {},
   "source": [
    "## Comparing the result with the solution set:"
   ]
  },
  {
   "cell_type": "code",
   "execution_count": 40,
   "id": "d7195c32-42f4-46fb-ba3b-b8f3f969025d",
   "metadata": {},
   "outputs": [],
   "source": [
    "# loading the solution dataset \n",
    "test_with_class = \"test.csv\"\n",
    "df_solution = pd.read_csv(test_with_class)\n",
    "y_solution =df_solution['Class']\n",
    "\n",
    "# normalizing the second dataset \n",
    "df2_normalized = normalizer.transform(df2)\n"
   ]
  },
  {
   "cell_type": "markdown",
   "id": "79654616-9739-4964-b309-7587753aca7d",
   "metadata": {},
   "source": [
    "#### Logistic Regression"
   ]
  },
  {
   "cell_type": "code",
   "execution_count": 41,
   "id": "2ade029a-4804-400a-8713-a97ad6dace0f",
   "metadata": {},
   "outputs": [
    {
     "name": "stdout",
     "output_type": "stream",
     "text": [
      "For logistic regression our score Kappa could have been : 0.42599277978339356\n"
     ]
    }
   ],
   "source": [
    "df2['Class'] = logreg.predict(df2_normalized)\n",
    "\n",
    "df_predicted = df2[['Class']].copy()\n",
    "df_predicted['Class'] = df_predicted['Class'].replace({1: 'LIVE', 0: 'DIE'})\n",
    "\n",
    "## evaluation \n",
    "kappa = cohen_kappa_score(y_solution, df_predicted)\n",
    "print(\"For logistic regression our score Kappa could have been :\", kappa)"
   ]
  },
  {
   "cell_type": "markdown",
   "id": "61a86898-70f0-4d50-8114-ac2d9e6d2d91",
   "metadata": {},
   "source": [
    "#### Bagging "
   ]
  },
  {
   "cell_type": "code",
   "execution_count": 42,
   "id": "3e1b2130-2f42-436e-a7c6-7007ae94120f",
   "metadata": {},
   "outputs": [
    {
     "name": "stdout",
     "output_type": "stream",
     "text": [
      "For Bagging and Pasting our score Kappa could have been : 0.500523560209424\n"
     ]
    }
   ],
   "source": [
    "df2['Class'] = bagging.predict(df2_normalized)\n",
    "\n",
    "df_predicted2 = df2[['Class']].copy()\n",
    "df_predicted2['Class'] = df_predicted2['Class'].replace({1: 'LIVE', 0: 'DIE'})\n",
    "\n",
    "## evaluation \n",
    "kappa2 = cohen_kappa_score(y_solution, df_predicted2)\n",
    "print(\"For Bagging and Pasting our score Kappa could have been :\", kappa2)"
   ]
  },
  {
   "cell_type": "markdown",
   "id": "0c52d37a-91b7-4c9c-86d1-ba7fac9a2bdf",
   "metadata": {},
   "source": [
    "#### AdaBoost Classifier"
   ]
  },
  {
   "cell_type": "code",
   "execution_count": 43,
   "id": "17465187-0d12-4ee6-a308-88a5df8816ec",
   "metadata": {},
   "outputs": [
    {
     "name": "stdout",
     "output_type": "stream",
     "text": [
      "For Adaboost our score Kappa could have been : 0.38515081206496526\n"
     ]
    }
   ],
   "source": [
    "df2['Class'] = adaboost.predict(df2_normalized)\n",
    "\n",
    "df_predicted3 = df2[['Class']].copy()\n",
    "df_predicted3['Class'] = df_predicted3['Class'].replace({1: 'LIVE', 0: 'DIE'})\n",
    "\n",
    "## evaluation \n",
    "kappa3 = cohen_kappa_score(y_solution, df_predicted3)\n",
    "print(\"For Adaboost our score Kappa could have been :\", kappa3)"
   ]
  },
  {
   "cell_type": "markdown",
   "id": "a02d432d-c410-4a98-909d-6da8d656ff59",
   "metadata": {},
   "source": [
    "#### Random Patch"
   ]
  },
  {
   "cell_type": "code",
   "execution_count": 44,
   "id": "48bdda18-a609-47cb-8421-df54696a0ad6",
   "metadata": {},
   "outputs": [
    {
     "name": "stdout",
     "output_type": "stream",
     "text": [
      "For Random Patch our score Kappa could have been : 0.42599277978339356\n"
     ]
    }
   ],
   "source": [
    "df2['Class'] = random_patch.predict(df2_normalized)\n",
    "\n",
    "df_predicted4 = df2[['Class']].copy()\n",
    "df_predicted4['Class'] = df_predicted4['Class'].replace({1: 'LIVE', 0: 'DIE'})\n",
    "\n",
    "## evaluation \n",
    "kappa4 = cohen_kappa_score(y_solution, df_predicted4)\n",
    "print(\"For Random Patch our score Kappa could have been :\", kappa4)"
   ]
  }
 ],
 "metadata": {
  "kernelspec": {
   "display_name": "Python 3 (ipykernel)",
   "language": "python",
   "name": "python3"
  },
  "language_info": {
   "codemirror_mode": {
    "name": "ipython",
    "version": 3
   },
   "file_extension": ".py",
   "mimetype": "text/x-python",
   "name": "python",
   "nbconvert_exporter": "python",
   "pygments_lexer": "ipython3",
   "version": "3.11.5"
  }
 },
 "nbformat": 4,
 "nbformat_minor": 5
}
